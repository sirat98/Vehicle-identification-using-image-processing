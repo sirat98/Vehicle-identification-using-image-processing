{
  "nbformat": 4,
  "nbformat_minor": 0,
  "metadata": {
    "colab": {
      "provenance": [],
      "authorship_tag": "ABX9TyMUVcVUrv78yJYsxz5nGp0G",
      "include_colab_link": true
    },
    "kernelspec": {
      "name": "python3",
      "display_name": "Python 3"
    },
    "language_info": {
      "name": "python"
    }
  },
  "cells": [
    {
      "cell_type": "markdown",
      "metadata": {
        "id": "view-in-github",
        "colab_type": "text"
      },
      "source": [
        "<a href=\"https://colab.research.google.com/github/sirat98/Vehicle-identification-using-image-processing/blob/main/vehicle_identification.ipynb\" target=\"_parent\"><img src=\"https://colab.research.google.com/assets/colab-badge.svg\" alt=\"Open In Colab\"/></a>"
      ]
    },
    {
      "cell_type": "code",
      "source": [
        "!pip install landingai\n",
        "!pip install pillow"
      ],
      "metadata": {
        "colab": {
          "base_uri": "https://localhost:8080/"
        },
        "id": "dFqf1TuQFMGc",
        "outputId": "54599b9b-6981-40f1-a3ec-10993516e343"
      },
      "execution_count": 1,
      "outputs": [
        {
          "output_type": "stream",
          "name": "stdout",
          "text": [
            "Collecting landingai\n",
            "  Downloading landingai-0.3.44-py3-none-any.whl (1.0 MB)\n",
            "\u001b[2K     \u001b[90m━━━━━━━━━━━━━━━━━━━━━━━━━━━━━━━━━━━━━━━━\u001b[0m \u001b[32m1.0/1.0 MB\u001b[0m \u001b[31m6.0 MB/s\u001b[0m eta \u001b[36m0:00:00\u001b[0m\n",
            "\u001b[?25hCollecting aiofiles<1.0.0,>=0.7.0 (from landingai)\n",
            "  Downloading aiofiles-0.8.0-py3-none-any.whl (13 kB)\n",
            "Requirement already satisfied: aiohttp[speedups]<4.0.0,>=3.7.3 in /usr/local/lib/python3.10/dist-packages (from landingai) (3.9.5)\n",
            "Collecting bbox-visualizer<0.2.0,>=0.1.0 (from landingai)\n",
            "  Downloading bbox_visualizer-0.1.0-py2.py3-none-any.whl (6.2 kB)\n",
            "Requirement already satisfied: imageio[ffmpeg]<3.0.0,>=2.0.0 in /usr/local/lib/python3.10/dist-packages (from landingai) (2.31.6)\n",
            "Requirement already satisfied: numpy<2.0.0,>=1.21.0 in /usr/local/lib/python3.10/dist-packages (from landingai) (1.25.2)\n",
            "Requirement already satisfied: opencv-python<5.0,>=4.5 in /usr/local/lib/python3.10/dist-packages (from landingai) (4.8.0.76)\n",
            "Requirement already satisfied: pandas<3.0.0,>=2.0.0 in /usr/local/lib/python3.10/dist-packages (from landingai) (2.0.3)\n",
            "Requirement already satisfied: pillow<11.0,>=9.0 in /usr/local/lib/python3.10/dist-packages (from landingai) (9.4.0)\n",
            "Requirement already satisfied: pydantic<3.0.0,>=2.0.0 in /usr/local/lib/python3.10/dist-packages (from landingai) (2.7.3)\n",
            "Collecting pydantic-settings<3.0.0,>=2.3.1 (from landingai)\n",
            "  Downloading pydantic_settings-2.3.3-py3-none-any.whl (22 kB)\n",
            "Requirement already satisfied: requests<3.0.0,>=2.0.0 in /usr/local/lib/python3.10/dist-packages (from landingai) (2.31.0)\n",
            "Collecting requests-toolbelt<2.0.0,>=1.0.0 (from landingai)\n",
            "  Downloading requests_toolbelt-1.0.0-py2.py3-none-any.whl (54 kB)\n",
            "\u001b[2K     \u001b[90m━━━━━━━━━━━━━━━━━━━━━━━━━━━━━━━━━━━━━━━━\u001b[0m \u001b[32m54.5/54.5 kB\u001b[0m \u001b[31m5.4 MB/s\u001b[0m eta \u001b[36m0:00:00\u001b[0m\n",
            "\u001b[?25hCollecting segmentation-mask-overlay<0.4.0,>=0.3.4 (from landingai)\n",
            "  Downloading segmentation_mask_overlay-0.3.4-py3-none-any.whl (276 kB)\n",
            "\u001b[2K     \u001b[90m━━━━━━━━━━━━━━━━━━━━━━━━━━━━━━━━━━━━━━━━\u001b[0m \u001b[32m276.6/276.6 kB\u001b[0m \u001b[31m7.3 MB/s\u001b[0m eta \u001b[36m0:00:00\u001b[0m\n",
            "\u001b[?25hRequirement already satisfied: tenacity<9.0.0,>=8.2.3 in /usr/local/lib/python3.10/dist-packages (from landingai) (8.3.0)\n",
            "Requirement already satisfied: tqdm<5.0.0,>=4.64.0 in /usr/local/lib/python3.10/dist-packages (from landingai) (4.66.4)\n",
            "Collecting urllib3<2.0.0,>=1.26.0 (from landingai)\n",
            "  Downloading urllib3-1.26.19-py2.py3-none-any.whl (143 kB)\n",
            "\u001b[2K     \u001b[90m━━━━━━━━━━━━━━━━━━━━━━━━━━━━━━━━━━━━━━━━\u001b[0m \u001b[32m143.9/143.9 kB\u001b[0m \u001b[31m9.1 MB/s\u001b[0m eta \u001b[36m0:00:00\u001b[0m\n",
            "\u001b[?25hRequirement already satisfied: aiosignal>=1.1.2 in /usr/local/lib/python3.10/dist-packages (from aiohttp[speedups]<4.0.0,>=3.7.3->landingai) (1.3.1)\n",
            "Requirement already satisfied: attrs>=17.3.0 in /usr/local/lib/python3.10/dist-packages (from aiohttp[speedups]<4.0.0,>=3.7.3->landingai) (23.2.0)\n",
            "Requirement already satisfied: frozenlist>=1.1.1 in /usr/local/lib/python3.10/dist-packages (from aiohttp[speedups]<4.0.0,>=3.7.3->landingai) (1.4.1)\n",
            "Requirement already satisfied: multidict<7.0,>=4.5 in /usr/local/lib/python3.10/dist-packages (from aiohttp[speedups]<4.0.0,>=3.7.3->landingai) (6.0.5)\n",
            "Requirement already satisfied: yarl<2.0,>=1.0 in /usr/local/lib/python3.10/dist-packages (from aiohttp[speedups]<4.0.0,>=3.7.3->landingai) (1.9.4)\n",
            "Requirement already satisfied: async-timeout<5.0,>=4.0 in /usr/local/lib/python3.10/dist-packages (from aiohttp[speedups]<4.0.0,>=3.7.3->landingai) (4.0.3)\n",
            "Collecting Brotli (from aiohttp[speedups]<4.0.0,>=3.7.3->landingai)\n",
            "  Downloading Brotli-1.1.0-cp310-cp310-manylinux_2_5_x86_64.manylinux1_x86_64.manylinux_2_12_x86_64.manylinux2010_x86_64.whl (3.0 MB)\n",
            "\u001b[2K     \u001b[90m━━━━━━━━━━━━━━━━━━━━━━━━━━━━━━━━━━━━━━━━\u001b[0m \u001b[32m3.0/3.0 MB\u001b[0m \u001b[31m15.1 MB/s\u001b[0m eta \u001b[36m0:00:00\u001b[0m\n",
            "\u001b[?25hCollecting aiodns (from aiohttp[speedups]<4.0.0,>=3.7.3->landingai)\n",
            "  Downloading aiodns-3.2.0-py3-none-any.whl (5.7 kB)\n",
            "Requirement already satisfied: imageio-ffmpeg in /usr/local/lib/python3.10/dist-packages (from imageio[ffmpeg]<3.0.0,>=2.0.0->landingai) (0.5.1)\n",
            "Requirement already satisfied: psutil in /usr/local/lib/python3.10/dist-packages (from imageio[ffmpeg]<3.0.0,>=2.0.0->landingai) (5.9.5)\n",
            "Requirement already satisfied: python-dateutil>=2.8.2 in /usr/local/lib/python3.10/dist-packages (from pandas<3.0.0,>=2.0.0->landingai) (2.8.2)\n",
            "Requirement already satisfied: pytz>=2020.1 in /usr/local/lib/python3.10/dist-packages (from pandas<3.0.0,>=2.0.0->landingai) (2023.4)\n",
            "Requirement already satisfied: tzdata>=2022.1 in /usr/local/lib/python3.10/dist-packages (from pandas<3.0.0,>=2.0.0->landingai) (2024.1)\n",
            "Requirement already satisfied: annotated-types>=0.4.0 in /usr/local/lib/python3.10/dist-packages (from pydantic<3.0.0,>=2.0.0->landingai) (0.7.0)\n",
            "Requirement already satisfied: pydantic-core==2.18.4 in /usr/local/lib/python3.10/dist-packages (from pydantic<3.0.0,>=2.0.0->landingai) (2.18.4)\n",
            "Requirement already satisfied: typing-extensions>=4.6.1 in /usr/local/lib/python3.10/dist-packages (from pydantic<3.0.0,>=2.0.0->landingai) (4.12.2)\n",
            "Collecting python-dotenv>=0.21.0 (from pydantic-settings<3.0.0,>=2.3.1->landingai)\n",
            "  Downloading python_dotenv-1.0.1-py3-none-any.whl (19 kB)\n",
            "Requirement already satisfied: charset-normalizer<4,>=2 in /usr/local/lib/python3.10/dist-packages (from requests<3.0.0,>=2.0.0->landingai) (3.3.2)\n",
            "Requirement already satisfied: idna<4,>=2.5 in /usr/local/lib/python3.10/dist-packages (from requests<3.0.0,>=2.0.0->landingai) (3.7)\n",
            "Requirement already satisfied: certifi>=2017.4.17 in /usr/local/lib/python3.10/dist-packages (from requests<3.0.0,>=2.0.0->landingai) (2024.6.2)\n",
            "Requirement already satisfied: matplotlib>=3.4.2 in /usr/local/lib/python3.10/dist-packages (from segmentation-mask-overlay<0.4.0,>=0.3.4->landingai) (3.7.1)\n",
            "Requirement already satisfied: opencv-python-headless>=4.5.3 in /usr/local/lib/python3.10/dist-packages (from segmentation-mask-overlay<0.4.0,>=0.3.4->landingai) (4.10.0.82)\n",
            "Requirement already satisfied: contourpy>=1.0.1 in /usr/local/lib/python3.10/dist-packages (from matplotlib>=3.4.2->segmentation-mask-overlay<0.4.0,>=0.3.4->landingai) (1.2.1)\n",
            "Requirement already satisfied: cycler>=0.10 in /usr/local/lib/python3.10/dist-packages (from matplotlib>=3.4.2->segmentation-mask-overlay<0.4.0,>=0.3.4->landingai) (0.12.1)\n",
            "Requirement already satisfied: fonttools>=4.22.0 in /usr/local/lib/python3.10/dist-packages (from matplotlib>=3.4.2->segmentation-mask-overlay<0.4.0,>=0.3.4->landingai) (4.53.0)\n",
            "Requirement already satisfied: kiwisolver>=1.0.1 in /usr/local/lib/python3.10/dist-packages (from matplotlib>=3.4.2->segmentation-mask-overlay<0.4.0,>=0.3.4->landingai) (1.4.5)\n",
            "Requirement already satisfied: packaging>=20.0 in /usr/local/lib/python3.10/dist-packages (from matplotlib>=3.4.2->segmentation-mask-overlay<0.4.0,>=0.3.4->landingai) (24.1)\n",
            "Requirement already satisfied: pyparsing>=2.3.1 in /usr/local/lib/python3.10/dist-packages (from matplotlib>=3.4.2->segmentation-mask-overlay<0.4.0,>=0.3.4->landingai) (3.1.2)\n",
            "Requirement already satisfied: six>=1.5 in /usr/local/lib/python3.10/dist-packages (from python-dateutil>=2.8.2->pandas<3.0.0,>=2.0.0->landingai) (1.16.0)\n",
            "Collecting pycares>=4.0.0 (from aiodns->aiohttp[speedups]<4.0.0,>=3.7.3->landingai)\n",
            "  Downloading pycares-4.4.0-cp310-cp310-manylinux_2_17_x86_64.manylinux2014_x86_64.whl (288 kB)\n",
            "\u001b[2K     \u001b[90m━━━━━━━━━━━━━━━━━━━━━━━━━━━━━━━━━━━━━━━━\u001b[0m \u001b[32m288.7/288.7 kB\u001b[0m \u001b[31m17.5 MB/s\u001b[0m eta \u001b[36m0:00:00\u001b[0m\n",
            "\u001b[?25hRequirement already satisfied: setuptools in /usr/local/lib/python3.10/dist-packages (from imageio-ffmpeg->imageio[ffmpeg]<3.0.0,>=2.0.0->landingai) (67.7.2)\n",
            "Requirement already satisfied: cffi>=1.5.0 in /usr/local/lib/python3.10/dist-packages (from pycares>=4.0.0->aiodns->aiohttp[speedups]<4.0.0,>=3.7.3->landingai) (1.16.0)\n",
            "Requirement already satisfied: pycparser in /usr/local/lib/python3.10/dist-packages (from cffi>=1.5.0->pycares>=4.0.0->aiodns->aiohttp[speedups]<4.0.0,>=3.7.3->landingai) (2.22)\n",
            "Installing collected packages: Brotli, urllib3, python-dotenv, bbox-visualizer, aiofiles, pycares, segmentation-mask-overlay, requests-toolbelt, pydantic-settings, aiodns, landingai\n",
            "  Attempting uninstall: urllib3\n",
            "    Found existing installation: urllib3 2.0.7\n",
            "    Uninstalling urllib3-2.0.7:\n",
            "      Successfully uninstalled urllib3-2.0.7\n",
            "Successfully installed Brotli-1.1.0 aiodns-3.2.0 aiofiles-0.8.0 bbox-visualizer-0.1.0 landingai-0.3.44 pycares-4.4.0 pydantic-settings-2.3.3 python-dotenv-1.0.1 requests-toolbelt-1.0.0 segmentation-mask-overlay-0.3.4 urllib3-1.26.19\n",
            "Requirement already satisfied: pillow in /usr/local/lib/python3.10/dist-packages (9.4.0)\n"
          ]
        }
      ]
    },
    {
      "cell_type": "code",
      "execution_count": 3,
      "metadata": {
        "colab": {
          "base_uri": "https://localhost:8080/"
        },
        "id": "UligOu6qE_HD",
        "outputId": "8b6c6472-d315-4036-abbc-375183467c08"
      },
      "outputs": [
        {
          "output_type": "stream",
          "name": "stdout",
          "text": [
            "[ClassificationPrediction(score=0.22416606545448303, label_name='activa', label_index=6)]\n"
          ]
        }
      ],
      "source": [
        "from PIL import Image\n",
        "from landingai.predict import Predictor\n",
        "# Enter your API Key\n",
        "endpoint_id = \"018eb51d-8ace-4d7b-ac63-ca32be1ce817\"\n",
        "api_key = \"land_sk_bReRtWaXHzOi463k8iFU0F6XWr2XqO7GempYgjaRnpPmo0d834\"\n",
        "# Load your image\n",
        "image = Image.open(\"/content/c18.webp\")\n",
        "# Run inference\n",
        "predictor = Predictor(endpoint_id, api_key=api_key)\n",
        "predictions = predictor.predict(image)\n",
        "print(predictions)"
      ]
    }
  ]
}